{
 "cells": [
  {
   "cell_type": "code",
   "execution_count": 1,
   "metadata": {},
   "outputs": [
    {
     "name": "stdout",
     "output_type": "stream",
     "text": [
      "es\n"
     ]
    }
   ],
   "source": [
    "#Задание 1 \n",
    "#две средних буквы, если число букв четное\n",
    "word = 'test'\n",
    "if len(word) % 2 == 0:    \n",
    "       print (word [int(len(word) / 2 - 1 ) : int(len(word) / 2 + 1 )])"
   ]
  },
  {
   "cell_type": "code",
   "execution_count": 6,
   "metadata": {},
   "outputs": [
    {
     "name": "stdout",
     "output_type": "stream",
     "text": [
      "t\n"
     ]
    }
   ],
   "source": [
    "#среднюю букву, если число букв в слове нечетное;\n",
    "word = 'testing'\n",
    "if not len(word) % 2 == 0:  \n",
    "    print (word [int(len(word) / 2 - 0.5 )])"
   ]
  },
  {
   "cell_type": "code",
   "execution_count": 14,
   "metadata": {},
   "outputs": [
    {
     "name": "stdout",
     "output_type": "stream",
     "text": [
      "Введите число: 1\n",
      "Введите число: 0\n",
      "1\n"
     ]
    }
   ],
   "source": [
    "# Задание 2\n",
    "\n",
    "x = int(input(\"Введите число: \"))\n",
    "sum = 0\n",
    "while x != 0:\n",
    "    sum += x\n",
    "    x = int(input(\"Введите число: \"))\n",
    "print (sum)\n"
   ]
  },
  {
   "cell_type": "code",
   "execution_count": 52,
   "metadata": {},
   "outputs": [
    {
     "name": "stdout",
     "output_type": "stream",
     "text": [
      "Идеальные пары:\n",
      "Alex и Emma\n",
      "Arthur и Kate\n",
      "John и Kira\n",
      "Peter и Liza\n",
      "Richard и Trisha\n"
     ]
    }
   ],
   "source": [
    "# Задание 3\n",
    "\n",
    "\n",
    "boys = ['Peter', 'Alex', 'John', 'Arthur', 'Richard']\n",
    "girls = ['Kate', 'Liza', 'Kira', 'Emma', 'Trisha']\n",
    "bboys = sorted (boys)\n",
    "ggirls = sorted (girls)\n",
    "if len(bboys) != len(ggirls):\n",
    "    print('кто-то может остаться без пары')\n",
    "elif len(bboys) == len(ggirls):\n",
    "    print ('Идеальные пары:')  \n",
    "    print ( bboys[0] + ' и ' + ggirls [0])\n",
    "    print ( bboys[1] + ' и ' + ggirls [1])\n",
    "    print ( bboys[2] + ' и ' + ggirls [2])\n",
    "    print ( bboys[3] + ' и ' + ggirls [3])\n",
    "    print ( bboys[4] + ' и ' + ggirls [4])\n",
    "\n",
    "\n"
   ]
  },
  {
   "cell_type": "code",
   "execution_count": 55,
   "metadata": {},
   "outputs": [
    {
     "name": "stdout",
     "output_type": "stream",
     "text": [
      "Thailand -  23.857142857142854  C\n",
      "Germany -  13.799999999999999  C\n",
      "Russia -  3.714285714285717  C\n",
      "Poland -  11.999999999999998  C\n"
     ]
    }
   ],
   "source": [
    "#Задание 4\n",
    "\n",
    "countries_temperature = [\n",
    "['Thailand', [75.2, 77, 78.8, 73.4, 68, 75.2, 77]],\n",
    "['Germany', [57.2, 55.4, 59, 59, 53.6]],\n",
    "['Russia', [35.6, 37.4, 39.2, 41, 42.8, 39.2, 35.6]],\n",
    "['Poland', [50, 50, 53.6, 57.2, 55.4, 55.4]]\n",
    "]\n",
    "\n",
    "for country in countries_temperature:\n",
    "    print (country[0], '- ', (sum (country [1]) / len (country [1]) - 32) * (5 / 9), ' C')\n",
    "\n",
    "\n",
    "#th, ge, ru, po = countries_temperature\n",
    "#print (th[0], '- ', (sum (th [1]) / len (th [1]) - 32) * (5 / 9), ' C')\n",
    "#print (ge[0], '- ', (sum (ge [1]) / len (ge [1]) - 32) * (5 / 9), ' C')\n",
    "#print (ru[0], '- ', (sum (ru [1]) / len (ru [1]) - 32) * (5 / 9), ' C')\n",
    "#print (po[0], '- ', (sum (po [1]) / len (po [1]) - 32) * (5 / 9), ' C')\n",
    "\n",
    "#как округлять итоговые значения до десятичных?\n"
   ]
  }
 ],
 "metadata": {
  "kernelspec": {
   "display_name": "Python 3",
   "language": "python",
   "name": "python3"
  },
  "language_info": {
   "codemirror_mode": {
    "name": "ipython",
    "version": 3
   },
   "file_extension": ".py",
   "mimetype": "text/x-python",
   "name": "python",
   "nbconvert_exporter": "python",
   "pygments_lexer": "ipython3",
   "version": "3.7.4"
  }
 },
 "nbformat": 4,
 "nbformat_minor": 2
}
